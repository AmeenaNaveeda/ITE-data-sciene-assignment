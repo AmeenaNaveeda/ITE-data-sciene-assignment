{
 "cells": [
  {
   "cell_type": "markdown",
   "metadata": {},
   "source": [
    "## Cluster Analysis"
   ]
  },
  {
   "cell_type": "markdown",
   "metadata": {},
   "source": [
    "Segment visitors into different groups based on their answers and analyze their distinct characteristics."
   ]
  },
  {
   "cell_type": "markdown",
   "metadata": {},
   "source": [
    "Use the clsuters created from the previous task i.e \"Predictive Analysis: Based on visitor preferences, predict what new categories should be introduced for exhibitors\" to perform this"
   ]
  },
  {
   "cell_type": "code",
   "execution_count": 1,
   "metadata": {},
   "outputs": [],
   "source": [
    "import pandas as pd\n",
    "from collections import Counter\n",
    "from sklearn.feature_extraction.text import CountVectorizer\n",
    "import matplotlib.pyplot as plt"
   ]
  },
  {
   "cell_type": "code",
   "execution_count": 2,
   "metadata": {},
   "outputs": [],
   "source": [
    "df = pd.read_csv(\"../results/visitor_preference_clusters.csv\")  # update path if needed\n",
    "cluster_sizes = df[\"cluster\"].value_counts().sort_index()"
   ]
  },
  {
   "cell_type": "code",
   "execution_count": 3,
   "metadata": {},
   "outputs": [],
   "source": [
    "def extract_top_keywords(texts, top_n=5):\n",
    "    vectorizer = CountVectorizer(stop_words=\"english\")\n",
    "    X = vectorizer.fit_transform(texts)\n",
    "    word_freq = X.sum(axis=0).A1\n",
    "    vocab = vectorizer.get_feature_names_out()\n",
    "    word_count = dict(zip(vocab, word_freq))\n",
    "    return [word for word, _ in sorted(word_count.items(), key=lambda x: -x[1])[:top_n]]"
   ]
  },
  {
   "cell_type": "code",
   "execution_count": 4,
   "metadata": {},
   "outputs": [],
   "source": [
    "cluster_keywords = {}\n",
    "for cluster_id in sorted(df[\"cluster\"].unique()):\n",
    "    texts = df[df[\"cluster\"] == cluster_id][\"answer\"].dropna().tolist()\n",
    "    keywords = extract_top_keywords(texts)\n",
    "    cluster_keywords[cluster_id] = keywords"
   ]
  },
  {
   "cell_type": "code",
   "execution_count": 5,
   "metadata": {},
   "outputs": [],
   "source": [
    "summary_data = []\n",
    "\n",
    "for cluster_id in sorted(df[\"cluster\"].unique()):\n",
    "    size = cluster_sizes[cluster_id]\n",
    "    keywords = \", \".join(cluster_keywords[cluster_id])\n",
    "    summary_data.append({\n",
    "        \"Cluster\": cluster_id,\n",
    "        \"Visitors\": size,\n",
    "        \"Top Keywords\": keywords\n",
    "    })\n",
    "\n",
    "summary_df = pd.DataFrame(summary_data)"
   ]
  },
  {
   "cell_type": "code",
   "execution_count": 6,
   "metadata": {},
   "outputs": [
    {
     "data": {
      "text/plain": [
       "<Figure size 600x400 with 0 Axes>"
      ]
     },
     "metadata": {},
     "output_type": "display_data"
    },
    {
     "data": {
      "image/png": "[encoded data removed]",
      "text/plain": [
       "<Figure size 640x480 with 1 Axes>"
      ]
     },
     "metadata": {},
     "output_type": "display_data"
    }
   ],
   "source": [
    "plt.figure(figsize=(6, 4))\n",
    "summary_df.plot(kind=\"bar\", x=\"Cluster\", y=\"Visitors\", legend=False, color=\"skyblue\")\n",
    "plt.title(\"Visitor Distribution per Cluster\")\n",
    "plt.ylabel(\"Number of Visitors\")\n",
    "plt.xlabel(\"Cluster\")\n",
    "plt.tight_layout()\n",
    "plt.show()"
   ]
  },
  {
   "cell_type": "code",
   "execution_count": 8,
   "metadata": {},
   "outputs": [],
   "source": [
    "summary_df.to_csv(\"../results/visitor_summary.csv\", index=False)"
   ]
  },
  {
   "cell_type": "code",
   "execution_count": 9,
   "metadata": {},
   "outputs": [
    {
     "data": {
      "text/html": [
       "<div>\n",
       "<style scoped>\n",
       "    .dataframe tbody tr th:only-of-type {\n",
       "        vertical-align: middle;\n",
       "    }\n",
       "\n",
       "    .dataframe tbody tr th {\n",
       "        vertical-align: top;\n",
       "    }\n",
       "\n",
       "    .dataframe thead th {\n",
       "        text-align: right;\n",
       "    }\n",
       "</style>\n",
       "<table border=\"1\" class=\"dataframe\">\n",
       "  <thead>\n",
       "    <tr style=\"text-align: right;\">\n",
       "      <th></th>\n",
       "      <th>Cluster</th>\n",
       "      <th>Visitors</th>\n",
       "      <th>Top Keywords</th>\n",
       "    </tr>\n",
       "  </thead>\n",
       "  <tbody>\n",
       "    <tr>\n",
       "      <th>0</th>\n",
       "      <td>0</td>\n",
       "      <td>24</td>\n",
       "      <td>products, million, responsibility, rubles, ser...</td>\n",
       "    </tr>\n",
       "    <tr>\n",
       "      <th>1</th>\n",
       "      <td>1</td>\n",
       "      <td>40</td>\n",
       "      <td>advisory, role, agent, services, travel</td>\n",
       "    </tr>\n",
       "    <tr>\n",
       "      <th>2</th>\n",
       "      <td>2</td>\n",
       "      <td>6</td>\n",
       "      <td>10, event, management, million, products</td>\n",
       "    </tr>\n",
       "    <tr>\n",
       "      <th>3</th>\n",
       "      <td>3</td>\n",
       "      <td>30</td>\n",
       "      <td>influence, agent, travel, general, information</td>\n",
       "    </tr>\n",
       "  </tbody>\n",
       "</table>\n",
       "</div>"
      ],
      "text/plain": [
       "   Cluster  Visitors                                       Top Keywords\n",
       "0        0        24  products, million, responsibility, rubles, ser...\n",
       "1        1        40            advisory, role, agent, services, travel\n",
       "2        2         6           10, event, management, million, products\n",
       "3        3        30     influence, agent, travel, general, information"
      ]
     },
     "execution_count": 9,
     "metadata": {},
     "output_type": "execute_result"
    }
   ],
   "source": [
    "summary_df"
   ]
  },
  {
   "cell_type": "markdown",
   "metadata": {},
   "source": [
    "As per the info above we can group the visitors into 4 groups "
   ]
  },
  {
   "cell_type": "code",
   "execution_count": 11,
   "metadata": {},
   "outputs": [
    {
     "name": "stdout",
     "output_type": "stream",
     "text": [
      "Cluster 0 - commercial buyers\n",
      "Cluster 1 - Consulting & Agents\n",
      "Cluster 2 - Event Planners\n",
      "Cluster 3 - Info Explorers\n"
     ]
    }
   ],
   "source": [
    "print(\"Cluster 0 - commercial buyers\")\n",
    "print(\"Cluster 1 - Consulting & Agents\")\n",
    "print(\"Cluster 2 - Event Planners\")\n",
    "print(\"Cluster 3 - Info Explorers\")"
   ]
  }
 ],
 "metadata": {
  "kernelspec": {
   "display_name": "ite-env",
   "language": "python",
   "name": "python3"
  },
  "language_info": {
   "codemirror_mode": {
    "name": "ipython",
    "version": 3
   },
   "file_extension": ".py",
   "mimetype": "text/x-python",
   "name": "python",
   "nbconvert_exporter": "python",
   "pygments_lexer": "ipython3",
   "version": "3.10.2"
  }
 },
 "nbformat": 4,
 "nbformat_minor": 2
}
