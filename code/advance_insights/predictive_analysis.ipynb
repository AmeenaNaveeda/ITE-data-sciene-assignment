{
 "cells": [
  {
   "cell_type": "markdown",
   "metadata": {},
   "source": [
    "## Predictive Analysis"
   ]
  },
  {
   "cell_type": "markdown",
   "metadata": {},
   "source": [
    "Based on visitor preferences, predict what new categories should be introduced for exhibitors"
   ]
  },
  {
   "cell_type": "code",
   "execution_count": 17,
   "metadata": {},
   "outputs": [],
   "source": [
    "import pandas as pd\n",
    "import numpy as np\n",
    "from sklearn.cluster import KMeans\n",
    "from fastembed import TextEmbedding as Embedding\n",
    "import matplotlib.pyplot as plt\n",
    "import seaborn as sns\n",
    "import sys\n",
    "import os\n",
    "sys.path.append(os.path.abspath(os.path.join(os.getcwd(), '..')))\n",
    "from utils.visitors import (\n",
    "    load_visitors,\n",
    "    load_visitors_answers,\n",
    "    preprocess_visitors,\n",
    "    merge_answers_questions,\n",
    "    filter_valid_visitor_answers\n",
    ")\n",
    "from utils.embedding_model import EmbeddingModel"
   ]
  },
  {
   "cell_type": "code",
   "execution_count": 18,
   "metadata": {},
   "outputs": [],
   "source": [
    "visitors_df = load_visitors()\n",
    "answers_df = load_visitors_answers()\n",
    "visitor_expanded_df = preprocess_visitors(visitors_df)\n",
    "merged_answers_questions_df = merge_answers_questions()\n",
    "visitor_with_answers = filter_valid_visitor_answers(visitor_expanded_df, merged_answers_questions_df)"
   ]
  },
  {
   "cell_type": "code",
   "execution_count": 19,
   "metadata": {},
   "outputs": [],
   "source": [
    "visitor_profiles_df = visitor_with_answers.groupby(\"email\")[\"answer\"].apply(lambda x: \" \".join(x.dropna())).reset_index()\n",
    "visitor_profiles_df = visitor_profiles_df[visitor_profiles_df[\"answer\"] != \"\"]"
   ]
  },
  {
   "cell_type": "code",
   "execution_count": 20,
   "metadata": {},
   "outputs": [],
   "source": [
    "embedding_model = EmbeddingModel()\n",
    "visitor_profile_texts = visitor_profiles_df[\"answer\"].tolist()\n",
    "visitor_profile_embeddings = embedding_model.embedList(visitor_profile_texts)"
   ]
  },
  {
   "cell_type": "code",
   "execution_count": 22,
   "metadata": {},
   "outputs": [
    {
     "name": "stdout",
     "output_type": "stream",
     "text": [
      "Sample themes per cluster:\n",
      "\n",
      "Cluster 0:\n",
      "To promote products and services Formation of tourist products Travel Agent Joint responsibility Up to 1 million rubles\n",
      "To source products and services Marketing Travel Agent Joint responsibility Up to 1 million rubles\n",
      "To source products and services Visa support Tour Operator Joint responsibility Up to 1 million rubles\n",
      "To promote products and services IT solutions for travel industry Sole responsibility 1 - 5 million rubles\n",
      "To promote products and services Visa support Tour Operator Sole responsibility Up to 1 million rubles\n",
      "\n",
      "Cluster 1:\n",
      "Personal interest\n",
      "Educational purposes  Visa support Tour Operator Advisory role\n",
      "Educational purposes  Visa support Tour Operator Advisory role\n",
      "Personal interest\n",
      "Personal interest\n",
      "\n",
      "Cluster 2:\n",
      "To source products and services Sales Event management Sole responsibility 5 - 10 million rubles\n",
      "To source products and services Sales Event management Sole responsibility 5 - 10 million rubles\n",
      "To source products and services Sales Event management Sole responsibility 5 - 10 million rubles\n",
      "To source products and services Sales Event management Sole responsibility 5 - 10 million rubles\n",
      "To source products and services Sales Event management Sole responsibility 5 - 10 million rubles\n",
      "\n",
      "Cluster 3:\n",
      "To obtain general information Travel Agent No influence\n",
      "To obtain general information Sales Travel Agent No influence\n",
      "To source products and services Travel Agent No influence\n",
      "To obtain general information Sales Travel Agent No influence\n",
      "To obtain general information Media Travel Agent No influence\n"
     ]
    },
    {
     "name": "stderr",
     "output_type": "stream",
     "text": [
      "C:\\Users\\ameen\\AppData\\Local\\Temp\\ipykernel_25276\\1512253960.py:17: FutureWarning: \n",
      "\n",
      "Passing `palette` without assigning `hue` is deprecated and will be removed in v0.14.0. Assign the `x` variable to `hue` and set `legend=False` for the same effect.\n",
      "\n",
      "  sns.countplot(data=visitor_profiles_df, x=\"cluster\", palette=\"Set2\")\n"
     ]
    },
    {
     "data": {
      "image/png": "[encoded data removed]",
      "text/plain": [
       "<Figure size 800x400 with 1 Axes>"
      ]
     },
     "metadata": {},
     "output_type": "display_data"
    }
   ],
   "source": [
    "n_clusters = 4\n",
    "kmeans = KMeans(n_clusters=n_clusters, random_state=42)\n",
    "labels = kmeans.fit_predict(visitor_profile_embeddings)\n",
    "\n",
    "visitor_profiles_df[\"cluster\"] = labels\n",
    "\n",
    "print(\"Sample themes per cluster:\")\n",
    "for cluster_id in range(n_clusters):\n",
    "    print(f\"\\nCluster {cluster_id}:\")\n",
    "    samples = visitor_profiles_df[visitor_profiles_df[\"cluster\"] == cluster_id].sample(5, random_state=42)\n",
    "    for _, row in samples.iterrows():\n",
    "        print(row[\"answer\"])\n",
    "\n",
    "plt.figure(figsize=(8, 4))\n",
    "sns.countplot(data=visitor_profiles_df, x=\"cluster\", palette=\"Set2\")\n",
    "plt.title(\"Number of Visitors per Cluster (Preference Segment)\")\n",
    "plt.xlabel(\"Cluster ID\")\n",
    "plt.ylabel(\"Number of Visitors\")\n",
    "plt.tight_layout()\n",
    "plt.show()\n",
    "\n",
    "visitor_profiles_df.to_csv(\"../results/visitor_preference_clusters.csv\", index=False)\n"
   ]
  },
  {
   "cell_type": "markdown",
   "metadata": {},
   "source": [
    "After Analysing the clustors created below new categories can be created"
   ]
  },
  {
   "cell_type": "code",
   "execution_count": 24,
   "metadata": {},
   "outputs": [
    {
     "name": "stdout",
     "output_type": "stream",
     "text": [
      "cluster 0 - category name - 'Market Access' ( for - Visa, distributor setup, regional entry, product sourcing)\n",
      "cluster 1 - category name - 'Brand Visibilit' (for General info, marketing, promotion, event awareness)\n",
      "cluster 3 - category name - 'Sales Enablement' (for Sales leads, networking, product showcases)\n",
      "cluster 4 - category name - 'Tour Sourcing' (Tour operators, contracts, packaged travel experiences)\n"
     ]
    }
   ],
   "source": [
    "print(f\"cluster 0 - category name - 'Market Access' ( for - Visa, distributor setup, regional entry, product sourcing)\")\n",
    "print(f\"cluster 1 - category name - 'Brand Visibility' (for General info, marketing, promotion, event awareness)\")\n",
    "print(f\"cluster 3 - category name - 'Sales Enablement' (for Sales leads, networking, product showcases)\")\n",
    "print(f\"cluster 4 - category name - 'Tour Sourcing' (Tour operators, contracts, packaged travel experiences)\")"
   ]
  }
 ],
 "metadata": {
  "kernelspec": {
   "display_name": "ite-env",
   "language": "python",
   "name": "python3"
  },
  "language_info": {
   "codemirror_mode": {
    "name": "ipython",
    "version": 3
   },
   "file_extension": ".py",
   "mimetype": "text/x-python",
   "name": "python",
   "nbconvert_exporter": "python",
   "pygments_lexer": "ipython3",
   "version": "3.10.2"
  }
 },
 "nbformat": 4,
 "nbformat_minor": 2
}
