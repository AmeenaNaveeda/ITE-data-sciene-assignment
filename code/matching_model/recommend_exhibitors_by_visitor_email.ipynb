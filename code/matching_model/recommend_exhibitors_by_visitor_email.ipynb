{
 "cells": [
  {
   "cell_type": "markdown",
   "metadata": {},
   "source": [
    "## Recommend exhibitors by visitor email id"
   ]
  },
  {
   "cell_type": "markdown",
   "metadata": {},
   "source": [
    "import libraries"
   ]
  },
  {
   "cell_type": "code",
   "execution_count": 1,
   "metadata": {},
   "outputs": [],
   "source": [
    "import sys\n",
    "import os\n",
    "\n",
    "sys.path.append(os.path.abspath(os.path.join(os.getcwd(), '..')))\n",
    "from models.recommend_exhibitors_by_email import recommend_exhibitors_for_visitor_email"
   ]
  },
  {
   "cell_type": "markdown",
   "metadata": {},
   "source": [
    "Recommend exhibitor based on email id"
   ]
  },
  {
   "cell_type": "code",
   "execution_count": null,
   "metadata": {},
   "outputs": [
    {
     "data": {
      "text/html": [
       "<div>\n",
       "<style scoped>\n",
       "    .dataframe tbody tr th:only-of-type {\n",
       "        vertical-align: middle;\n",
       "    }\n",
       "\n",
       "    .dataframe tbody tr th {\n",
       "        vertical-align: top;\n",
       "    }\n",
       "\n",
       "    .dataframe thead th {\n",
       "        text-align: right;\n",
       "    }\n",
       "</style>\n",
       "<table border=\"1\" class=\"dataframe\">\n",
       "  <thead>\n",
       "    <tr style=\"text-align: right;\">\n",
       "      <th></th>\n",
       "      <th>exhibitor_id</th>\n",
       "      <th>exhibitor_name</th>\n",
       "      <th>similarity_score_sum</th>\n",
       "      <th>matched_category_count</th>\n",
       "      <th>final_score</th>\n",
       "    </tr>\n",
       "  </thead>\n",
       "  <tbody>\n",
       "    <tr>\n",
       "      <th>7</th>\n",
       "      <td>68142</td>\n",
       "      <td>Global Tours Voyages</td>\n",
       "      <td>1.4767</td>\n",
       "      <td>2</td>\n",
       "      <td>1.181360</td>\n",
       "    </tr>\n",
       "    <tr>\n",
       "      <th>6</th>\n",
       "      <td>51839</td>\n",
       "      <td>Dream Getaways Expeditions</td>\n",
       "      <td>0.9847</td>\n",
       "      <td>1</td>\n",
       "      <td>0.866536</td>\n",
       "    </tr>\n",
       "    <tr>\n",
       "      <th>8</th>\n",
       "      <td>74870</td>\n",
       "      <td>Exotic Tours Journeys</td>\n",
       "      <td>0.9847</td>\n",
       "      <td>1</td>\n",
       "      <td>0.827148</td>\n",
       "    </tr>\n",
       "    <tr>\n",
       "      <th>0</th>\n",
       "      <td>13033</td>\n",
       "      <td>Prime Vacations Expeditions</td>\n",
       "      <td>0.7788</td>\n",
       "      <td>1</td>\n",
       "      <td>0.716496</td>\n",
       "    </tr>\n",
       "    <tr>\n",
       "      <th>4</th>\n",
       "      <td>32278</td>\n",
       "      <td>Exotic Holidays Holidays</td>\n",
       "      <td>0.6802</td>\n",
       "      <td>1</td>\n",
       "      <td>0.639388</td>\n",
       "    </tr>\n",
       "    <tr>\n",
       "      <th>2</th>\n",
       "      <td>18004</td>\n",
       "      <td>Exotic Getaways Journeys</td>\n",
       "      <td>0.6327</td>\n",
       "      <td>1</td>\n",
       "      <td>0.620046</td>\n",
       "    </tr>\n",
       "    <tr>\n",
       "      <th>9</th>\n",
       "      <td>92462</td>\n",
       "      <td>Russian Travel Company</td>\n",
       "      <td>0.6802</td>\n",
       "      <td>1</td>\n",
       "      <td>0.598576</td>\n",
       "    </tr>\n",
       "  </tbody>\n",
       "</table>\n",
       "</div>"
      ],
      "text/plain": [
       "   exhibitor_id               exhibitor_name  similarity_score_sum  \\\n",
       "7         68142         Global Tours Voyages                1.4767   \n",
       "6         51839   Dream Getaways Expeditions                0.9847   \n",
       "8         74870        Exotic Tours Journeys                0.9847   \n",
       "0         13033  Prime Vacations Expeditions                0.7788   \n",
       "4         32278     Exotic Holidays Holidays                0.6802   \n",
       "2         18004     Exotic Getaways Journeys                0.6327   \n",
       "9         92462       Russian Travel Company                0.6802   \n",
       "\n",
       "   matched_category_count  final_score  \n",
       "7                       2     1.181360  \n",
       "6                       1     0.866536  \n",
       "8                       1     0.827148  \n",
       "0                       1     0.716496  \n",
       "4                       1     0.639388  \n",
       "2                       1     0.620046  \n",
       "9                       1     0.598576  "
      ]
     },
     "execution_count": 2,
     "metadata": {},
     "output_type": "execute_result"
    }
   ],
   "source": [
    "recommend_exhibitors_for_visitor_email(\"tatjana+182_N1PC@bss.mk\")"
   ]
  }
 ],
 "metadata": {
  "kernelspec": {
   "display_name": "Python 3",
   "language": "python",
   "name": "python3"
  },
  "language_info": {
   "codemirror_mode": {
    "name": "ipython",
    "version": 3
   },
   "file_extension": ".py",
   "mimetype": "text/x-python",
   "name": "python",
   "nbconvert_exporter": "python",
   "pygments_lexer": "ipython3",
   "version": "3.10.2"
  }
 },
 "nbformat": 4,
 "nbformat_minor": 2
}
