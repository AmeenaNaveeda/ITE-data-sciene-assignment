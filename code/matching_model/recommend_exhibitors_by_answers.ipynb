{
 "cells": [
  {
   "cell_type": "markdown",
   "metadata": {},
   "source": [
    "## Recommend exhibitors by answers"
   ]
  },
  {
   "cell_type": "markdown",
   "metadata": {},
   "source": [
    "import libraries"
   ]
  },
  {
   "cell_type": "code",
   "execution_count": 1,
   "metadata": {},
   "outputs": [],
   "source": [
    "import sys\n",
    "import os\n",
    "\n",
    "sys.path.append(os.path.abspath(os.path.join(os.getcwd(), '..')))"
   ]
  },
  {
   "cell_type": "code",
   "execution_count": null,
   "metadata": {},
   "outputs": [
    {
     "name": "stderr",
     "output_type": "stream",
     "text": [
      "c:\\Users\\ameen\\Documents\\Personal\\Codebases\\ITE-data-sciene-assignment\\ite-env\\lib\\site-packages\\tqdm\\auto.py:21: TqdmWarning: IProgress not found. Please update jupyter and ipywidgets. See https://ipywidgets.readthedocs.io/en/stable/user_install.html\n",
      "  from .autonotebook import tqdm as notebook_tqdm\n"
     ]
    }
   ],
   "source": [
    "import torch\n",
    "import pandas as pd\n",
    "from utils.visitors import (\n",
    "    load_visitors_answers,\n",
    "    preprocess_visitor_answers,\n",
    "    merge_answers_questions\n",
    ")\n",
    "from utils.exhibitors import (\n",
    "    load_exhibitor_categories,\n",
    "    preprocess_exhibitor_categories,\n",
    "    load_exhibitors\n",
    ")\n",
    "from utils.embedding_model import EmbeddingModel\n",
    "from sentence_transformers.util import cos_sim\n",
    "from models.recommend_exhibitors_by_answers import recommend_exhibitors_for_answer"
   ]
  },
  {
   "cell_type": "markdown",
   "metadata": {},
   "source": [
    "Load the required input files"
   ]
  },
  {
   "cell_type": "code",
   "execution_count": 3,
   "metadata": {},
   "outputs": [],
   "source": [
    "visitors_answers_df = load_visitors_answers()\n",
    "exhibitor_categories_df = load_exhibitor_categories()"
   ]
  },
  {
   "cell_type": "markdown",
   "metadata": {},
   "source": [
    "Preprocess visitor answers for generating embeddings"
   ]
  },
  {
   "cell_type": "code",
   "execution_count": 4,
   "metadata": {},
   "outputs": [
    {
     "data": {
      "text/html": [
       "<div>\n",
       "<style scoped>\n",
       "    .dataframe tbody tr th:only-of-type {\n",
       "        vertical-align: middle;\n",
       "    }\n",
       "\n",
       "    .dataframe tbody tr th {\n",
       "        vertical-align: top;\n",
       "    }\n",
       "\n",
       "    .dataframe thead th {\n",
       "        text-align: right;\n",
       "    }\n",
       "</style>\n",
       "<table border=\"1\" class=\"dataframe\">\n",
       "  <thead>\n",
       "    <tr style=\"text-align: right;\">\n",
       "      <th></th>\n",
       "      <th>id</th>\n",
       "      <th>answer</th>\n",
       "      <th>questionId</th>\n",
       "      <th>answer_cleaned</th>\n",
       "    </tr>\n",
       "  </thead>\n",
       "  <tbody>\n",
       "    <tr>\n",
       "      <th>16</th>\n",
       "      <td>611506abc0d46618f87aadef</td>\n",
       "      <td>Sightseeing / Museum / Excursions &amp; Activities</td>\n",
       "      <td>5c8a78336d41a10da4f73253</td>\n",
       "      <td>sightseeing or museum or excursions and activi...</td>\n",
       "    </tr>\n",
       "    <tr>\n",
       "      <th>17</th>\n",
       "      <td>5c8a78336d41a10da4f732d6</td>\n",
       "      <td>Other</td>\n",
       "      <td>5c8a78336d41a10da4f73253</td>\n",
       "      <td>other</td>\n",
       "    </tr>\n",
       "    <tr>\n",
       "      <th>18</th>\n",
       "      <td>5c8a78336d41a10da4f732be</td>\n",
       "      <td>Educational institution</td>\n",
       "      <td>5c8a78336d41a10da4f73253</td>\n",
       "      <td>educational institution</td>\n",
       "    </tr>\n",
       "    <tr>\n",
       "      <th>19</th>\n",
       "      <td>611506a1c0d46618f87aadee</td>\n",
       "      <td>Insurance</td>\n",
       "      <td>5c8a78336d41a10da4f73253</td>\n",
       "      <td>insurance</td>\n",
       "    </tr>\n",
       "  </tbody>\n",
       "</table>\n",
       "</div>"
      ],
      "text/plain": [
       "                          id                                          answer  \\\n",
       "16  611506abc0d46618f87aadef  Sightseeing / Museum / Excursions & Activities   \n",
       "17  5c8a78336d41a10da4f732d6                                           Other   \n",
       "18  5c8a78336d41a10da4f732be                         Educational institution   \n",
       "19  611506a1c0d46618f87aadee                                       Insurance   \n",
       "\n",
       "                  questionId  \\\n",
       "16  5c8a78336d41a10da4f73253   \n",
       "17  5c8a78336d41a10da4f73253   \n",
       "18  5c8a78336d41a10da4f73253   \n",
       "19  5c8a78336d41a10da4f73253   \n",
       "\n",
       "                                       answer_cleaned  \n",
       "16  sightseeing or museum or excursions and activi...  \n",
       "17                                              other  \n",
       "18                            educational institution  \n",
       "19                                          insurance  "
      ]
     },
     "execution_count": 4,
     "metadata": {},
     "output_type": "execute_result"
    }
   ],
   "source": [
    "preprocess_visitor_answers_df = preprocess_visitor_answers(visitors_answers_df)\n",
    "preprocess_visitor_answers_df.head()\n",
    "preprocess_visitor_answers_df.iloc[16:20]"
   ]
  },
  {
   "cell_type": "markdown",
   "metadata": {},
   "source": [
    "preprocess exhibitor categories for generating embeddings"
   ]
  },
  {
   "cell_type": "code",
   "execution_count": 5,
   "metadata": {},
   "outputs": [
    {
     "data": {
      "text/html": [
       "<div>\n",
       "<style scoped>\n",
       "    .dataframe tbody tr th:only-of-type {\n",
       "        vertical-align: middle;\n",
       "    }\n",
       "\n",
       "    .dataframe tbody tr th {\n",
       "        vertical-align: top;\n",
       "    }\n",
       "\n",
       "    .dataframe thead th {\n",
       "        text-align: right;\n",
       "    }\n",
       "</style>\n",
       "<table border=\"1\" class=\"dataframe\">\n",
       "  <thead>\n",
       "    <tr style=\"text-align: right;\">\n",
       "      <th></th>\n",
       "      <th>categoryId</th>\n",
       "      <th>categoryName</th>\n",
       "      <th>categoryName_cleaned</th>\n",
       "    </tr>\n",
       "  </thead>\n",
       "  <tbody>\n",
       "    <tr>\n",
       "      <th>0</th>\n",
       "      <td>52271</td>\n",
       "      <td>1. Accomodation providers</td>\n",
       "      <td>accomodation providers</td>\n",
       "    </tr>\n",
       "    <tr>\n",
       "      <th>1</th>\n",
       "      <td>52272</td>\n",
       "      <td>1.1 Hotel / Hotel chain / Inn</td>\n",
       "      <td>hotel or hotel chain or inn</td>\n",
       "    </tr>\n",
       "    <tr>\n",
       "      <th>2</th>\n",
       "      <td>52273</td>\n",
       "      <td>1.2 Apartments / Residential hotel</td>\n",
       "      <td>apartments or residential hotel</td>\n",
       "    </tr>\n",
       "    <tr>\n",
       "      <th>3</th>\n",
       "      <td>52274</td>\n",
       "      <td>1.3 Hostel / Motel</td>\n",
       "      <td>hostel or motel</td>\n",
       "    </tr>\n",
       "    <tr>\n",
       "      <th>4</th>\n",
       "      <td>52275</td>\n",
       "      <td>1.4 Boarding house</td>\n",
       "      <td>boarding house</td>\n",
       "    </tr>\n",
       "  </tbody>\n",
       "</table>\n",
       "</div>"
      ],
      "text/plain": [
       "   categoryId                        categoryName  \\\n",
       "0       52271           1. Accomodation providers   \n",
       "1       52272       1.1 Hotel / Hotel chain / Inn   \n",
       "2       52273  1.2 Apartments / Residential hotel   \n",
       "3       52274                  1.3 Hostel / Motel   \n",
       "4       52275                  1.4 Boarding house   \n",
       "\n",
       "              categoryName_cleaned  \n",
       "0           accomodation providers  \n",
       "1      hotel or hotel chain or inn  \n",
       "2  apartments or residential hotel  \n",
       "3                  hostel or motel  \n",
       "4                   boarding house  "
      ]
     },
     "execution_count": 5,
     "metadata": {},
     "output_type": "execute_result"
    }
   ],
   "source": [
    "normalize_exhibitor_categories_df = preprocess_exhibitor_categories(exhibitor_categories_df)\n",
    "normalize_exhibitor_categories_df.head()"
   ]
  },
  {
   "cell_type": "markdown",
   "metadata": {},
   "source": [
    "Convert the cleaned answers and category names to list for embedding"
   ]
  },
  {
   "cell_type": "code",
   "execution_count": 6,
   "metadata": {},
   "outputs": [],
   "source": [
    "answer_ids = preprocess_visitor_answers_df['id'].tolist()\n",
    "answer_texts = preprocess_visitor_answers_df['answer_cleaned'].drop_duplicates().tolist()\n",
    "category_names = normalize_exhibitor_categories_df['categoryName_cleaned'].tolist()"
   ]
  },
  {
   "cell_type": "markdown",
   "metadata": {},
   "source": [
    "Initialize embedding_model and generate embeddings"
   ]
  },
  {
   "cell_type": "code",
   "execution_count": 7,
   "metadata": {},
   "outputs": [],
   "source": [
    "embedding_model = EmbeddingModel()\n",
    "answer_embeddings = embedding_model.embedList(answer_texts)\n",
    "category_embeddings = embedding_model.embedList(category_names)"
   ]
  },
  {
   "cell_type": "markdown",
   "metadata": {},
   "source": [
    "\n",
    "Perform cosine similarity to find the semantic similarity between the answers and categories, retain top 3 similar matchings"
   ]
  },
  {
   "cell_type": "code",
   "execution_count": 8,
   "metadata": {},
   "outputs": [
    {
     "name": "stderr",
     "output_type": "stream",
     "text": [
      "c:\\Users\\ameen\\Documents\\Personal\\Codebases\\ITE-data-sciene-assignment\\ite-env\\lib\\site-packages\\sentence_transformers\\util.py:44: UserWarning: Creating a tensor from a list of numpy.ndarrays is extremely slow. Please consider converting the list to a single numpy.ndarray with numpy.array() before converting to a tensor. (Triggered internally at C:\\actions-runner\\_work\\pytorch\\pytorch\\pytorch\\torch\\csrc\\utils\\tensor_new.cpp:257.)\n",
      "  a = torch.tensor(a)\n"
     ]
    }
   ],
   "source": [
    "ans_sim = cos_sim(answer_embeddings, category_embeddings)"
   ]
  },
  {
   "cell_type": "markdown",
   "metadata": {},
   "source": [
    "Store the answer and categories matching based on top 3 similarity scores in a CSV file under results"
   ]
  },
  {
   "cell_type": "code",
   "execution_count": 9,
   "metadata": {},
   "outputs": [],
   "source": [
    "# Get top 3 matches with both IDs\n",
    "top_k = 3\n",
    "answer_category_matches = []\n",
    "for i in range(len(answer_texts)):\n",
    "    top_indices = torch.topk(ans_sim[i], top_k).indices\n",
    "    for rank, cat_idx in enumerate(top_indices):\n",
    "        answer_category_matches.append({\n",
    "            \"answer_id\": answer_ids[i],\n",
    "            \"answer_text\": answer_texts[i],\n",
    "            \"matched_category\": exhibitor_categories_df.iloc[cat_idx.item()][\"categoryName\"],\n",
    "            \"category_id\": str(exhibitor_categories_df.iloc[cat_idx.item()][\"categoryId\"]),\n",
    "            \"similarity_score\": round(ans_sim[i][cat_idx].item(), 4),\n",
    "            \"rank\": rank + 1\n",
    "        })\n",
    "\n",
    "# Create DataFrame and save for later use\n",
    "answer_category_matches_df = pd.DataFrame(answer_category_matches)\n",
    "answer_category_matches_df.to_csv(\"../results/top_3_category_matches_per_answer.csv\", index=False)"
   ]
  },
  {
   "cell_type": "markdown",
   "metadata": {},
   "source": [
    "Map exhibitors to the answers based on the answer_category_matches"
   ]
  },
  {
   "cell_type": "code",
   "execution_count": 11,
   "metadata": {},
   "outputs": [],
   "source": [
    "exhibitors_df = load_exhibitors()\n",
    "top_3_category_per_answer = pd.read_csv(\"../results/top_3_category_matches_per_answer.csv\")"
   ]
  },
  {
   "cell_type": "markdown",
   "metadata": {},
   "source": [
    "Create mappings to match exhibitors by answers"
   ]
  },
  {
   "cell_type": "code",
   "execution_count": 12,
   "metadata": {},
   "outputs": [
    {
     "name": "stderr",
     "output_type": "stream",
     "text": [
      "C:\\Users\\ameen\\AppData\\Local\\Temp\\ipykernel_11208\\3149573378.py:11: DeprecationWarning: DataFrameGroupBy.apply operated on the grouping columns. This behavior is deprecated, and in a future version of pandas the grouping columns will be excluded from the operation. Either pass `include_groups=False` to exclude the groupings or explicitly select the grouping columns after groupby to silence this warning.\n",
      "  .apply(lambda df: dict(zip(df[\"category_id\"], df[\"similarity_score\"])))\n"
     ]
    }
   ],
   "source": [
    "top_3_category_per_answer[\"category_id\"] = top_3_category_per_answer[\"category_id\"].astype(str)\n",
    "exhibitors_df[\"MainCategories\"] = exhibitors_df[\"MainCategories\"].astype(str)\n",
    "exhibitor_categories_df[\"categoryId\"] = exhibitor_categories_df[\"categoryId\"].astype(str)\n",
    "answer_text_map = visitors_answers_df.set_index(\"id\")[\"answer\"].to_dict()\n",
    "category_name_map = exhibitor_categories_df.set_index(\"categoryId\")[\"categoryName\"].to_dict()\n",
    "exhibitor_name_map = exhibitors_df.set_index(\"exhibitorid\")[\"Name\"].to_dict()\n",
    "exhibitors_df[\"category_list\"] = exhibitors_df[\"MainCategories\"].astype(str).apply(lambda x: x.split(\"|\"))\n",
    "exhibitor_cat_map  = exhibitors_df.set_index(\"exhibitorid\")[\"category_list\"].to_dict()\n",
    "answer_cat_score_map = (\n",
    "    answer_category_matches_df.groupby(\"answer_id\")\n",
    "    .apply(lambda df: dict(zip(df[\"category_id\"], df[\"similarity_score\"])))\n",
    "    .to_dict()\n",
    ")"
   ]
  },
  {
   "cell_type": "markdown",
   "metadata": {},
   "source": [
    "Map and exhibitor to answer based on answer_category_matches (semantic match generated earlier). Store the results in a csv file for next tasks "
   ]
  },
  {
   "cell_type": "code",
   "execution_count": 13,
   "metadata": {},
   "outputs": [],
   "source": [
    "rows = []\n",
    "for answer_id, category_scores in answer_cat_score_map.items():\n",
    "    answer_cats = set(category_scores.keys())\n",
    "    answer_text = answer_text_map.get(answer_id, \"\")\n",
    "    \n",
    "    for exhibitor_id, exhibitor_cats in exhibitor_cat_map.items():\n",
    "        matched = set(answer_cats) & set(exhibitor_cats)\n",
    "        if matched:\n",
    "            total_score = sum(float(category_scores[cat]) for cat in matched)\n",
    "            matched_names = [category_name_map.get(cat, \"\") for cat in matched]\n",
    "            rows.append({\n",
    "                \"answer_id\": answer_id,\n",
    "                \"answer_text\": answer_text,\n",
    "                \"exhibitor_id\": exhibitor_id,\n",
    "                \"exhibitor_name\": exhibitor_name_map.get(exhibitor_id, \"\"),\n",
    "                \"matched_category_ids\": \"|\".join(matched),\n",
    "                \"matched_category_names\": \"|\".join(matched_names),\n",
    "                \"similarity_score_sum\": round(total_score, 4),\n",
    "                \"matched_category_count\": len(matched)\n",
    "            })\n",
    "# Save result\n",
    "answer_to_exhibitor_df = pd.DataFrame(rows)\n",
    "answer_to_exhibitor_df.to_csv(\"../results/answer_to_exhibitor_mapping.csv\", index=False)\n"
   ]
  },
  {
   "cell_type": "markdown",
   "metadata": {},
   "source": [
    "Recommend exhibitors based on answers (this uses csv generated from the above steps)"
   ]
  },
  {
   "cell_type": "code",
   "execution_count": 15,
   "metadata": {},
   "outputs": [
    {
     "data": {
      "text/html": [
       "<div>\n",
       "<style scoped>\n",
       "    .dataframe tbody tr th:only-of-type {\n",
       "        vertical-align: middle;\n",
       "    }\n",
       "\n",
       "    .dataframe tbody tr th {\n",
       "        vertical-align: top;\n",
       "    }\n",
       "\n",
       "    .dataframe thead th {\n",
       "        text-align: right;\n",
       "    }\n",
       "</style>\n",
       "<table border=\"1\" class=\"dataframe\">\n",
       "  <thead>\n",
       "    <tr style=\"text-align: right;\">\n",
       "      <th></th>\n",
       "      <th>exhibitor_id</th>\n",
       "      <th>exhibitor_name</th>\n",
       "      <th>similarity_score_sum</th>\n",
       "      <th>matched_category_count</th>\n",
       "      <th>matched_category_names</th>\n",
       "      <th>category_count</th>\n",
       "      <th>penalty_factor</th>\n",
       "      <th>final_score</th>\n",
       "    </tr>\n",
       "  </thead>\n",
       "  <tbody>\n",
       "    <tr>\n",
       "      <th>0</th>\n",
       "      <td>32278</td>\n",
       "      <td>Exotic Holidays Holidays</td>\n",
       "      <td>0.6877</td>\n",
       "      <td>1</td>\n",
       "      <td>6.3 Services &amp; facilities</td>\n",
       "      <td>3</td>\n",
       "      <td>0.94</td>\n",
       "      <td>0.646438</td>\n",
       "    </tr>\n",
       "    <tr>\n",
       "      <th>3</th>\n",
       "      <td>92462</td>\n",
       "      <td>Russian Travel Company</td>\n",
       "      <td>0.6877</td>\n",
       "      <td>1</td>\n",
       "      <td>6.3 Services &amp; facilities</td>\n",
       "      <td>6</td>\n",
       "      <td>0.88</td>\n",
       "      <td>0.605176</td>\n",
       "    </tr>\n",
       "    <tr>\n",
       "      <th>1</th>\n",
       "      <td>48028</td>\n",
       "      <td>Prime Adventures Journeys</td>\n",
       "      <td>0.7179</td>\n",
       "      <td>1</td>\n",
       "      <td>9.2 Manufacturer / distributor of consumables</td>\n",
       "      <td>11</td>\n",
       "      <td>0.78</td>\n",
       "      <td>0.559962</td>\n",
       "    </tr>\n",
       "    <tr>\n",
       "      <th>2</th>\n",
       "      <td>68142</td>\n",
       "      <td>Global Tours Voyages</td>\n",
       "      <td>0.6953</td>\n",
       "      <td>1</td>\n",
       "      <td>11.3 Other services in the sphere of business ...</td>\n",
       "      <td>10</td>\n",
       "      <td>0.80</td>\n",
       "      <td>0.556240</td>\n",
       "    </tr>\n",
       "  </tbody>\n",
       "</table>\n",
       "</div>"
      ],
      "text/plain": [
       "   exhibitor_id             exhibitor_name  similarity_score_sum  \\\n",
       "0         32278   Exotic Holidays Holidays                0.6877   \n",
       "3         92462     Russian Travel Company                0.6877   \n",
       "1         48028  Prime Adventures Journeys                0.7179   \n",
       "2         68142       Global Tours Voyages                0.6953   \n",
       "\n",
       "   matched_category_count                             matched_category_names  \\\n",
       "0                       1                          6.3 Services & facilities   \n",
       "3                       1                          6.3 Services & facilities   \n",
       "1                       1      9.2 Manufacturer / distributor of consumables   \n",
       "2                       1  11.3 Other services in the sphere of business ...   \n",
       "\n",
       "   category_count  penalty_factor  final_score  \n",
       "0               3            0.94     0.646438  \n",
       "3               6            0.88     0.605176  \n",
       "1              11            0.78     0.559962  \n",
       "2              10            0.80     0.556240  "
      ]
     },
     "execution_count": 15,
     "metadata": {},
     "output_type": "execute_result"
    }
   ],
   "source": [
    "recommend_exhibitors_for_answer(\"To source products and services\")"
   ]
  }
 ],
 "metadata": {
  "kernelspec": {
   "display_name": "ite-env",
   "language": "python",
   "name": "python3"
  },
  "language_info": {
   "codemirror_mode": {
    "name": "ipython",
    "version": 3
   },
   "file_extension": ".py",
   "mimetype": "text/x-python",
   "name": "python",
   "nbconvert_exporter": "python",
   "pygments_lexer": "ipython3",
   "version": "3.10.2"
  }
 },
 "nbformat": 4,
 "nbformat_minor": 2
}
