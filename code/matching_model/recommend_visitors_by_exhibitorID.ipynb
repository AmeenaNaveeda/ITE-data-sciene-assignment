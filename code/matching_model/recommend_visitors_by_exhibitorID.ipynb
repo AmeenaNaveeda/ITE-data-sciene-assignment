{
 "cells": [
  {
   "cell_type": "markdown",
   "metadata": {},
   "source": [
    "## Recommend visitors by exhibitor ID"
   ]
  },
  {
   "cell_type": "markdown",
   "metadata": {},
   "source": [
    "import libraries"
   ]
  },
  {
   "cell_type": "code",
   "execution_count": 3,
   "metadata": {},
   "outputs": [],
   "source": [
    "import sys\n",
    "import os\n",
    "\n",
    "# Adds the parent directory of 'matching_model' to the Python path\n",
    "sys.path.append(os.path.abspath(os.path.join(os.getcwd(), '..')))\n",
    "from models.recommend_visitors_by_exhibitorID import recommend_visitors_for_exhibitor"
   ]
  },
  {
   "cell_type": "markdown",
   "metadata": {},
   "source": [
    "recommend visitors based on exhibitor id"
   ]
  },
  {
   "cell_type": "code",
   "execution_count": 4,
   "metadata": {},
   "outputs": [
    {
     "data": {
      "text/html": [
       "<div>\n",
       "<style scoped>\n",
       "    .dataframe tbody tr th:only-of-type {\n",
       "        vertical-align: middle;\n",
       "    }\n",
       "\n",
       "    .dataframe tbody tr th {\n",
       "        vertical-align: top;\n",
       "    }\n",
       "\n",
       "    .dataframe thead th {\n",
       "        text-align: right;\n",
       "    }\n",
       "</style>\n",
       "<table border=\"1\" class=\"dataframe\">\n",
       "  <thead>\n",
       "    <tr style=\"text-align: right;\">\n",
       "      <th></th>\n",
       "      <th>visitor_id</th>\n",
       "      <th>email</th>\n",
       "      <th>similarity_score_sum</th>\n",
       "      <th>matched_category_count</th>\n",
       "      <th>final_score</th>\n",
       "    </tr>\n",
       "  </thead>\n",
       "  <tbody>\n",
       "    <tr>\n",
       "      <th>21</th>\n",
       "      <td>67b708f32d21f543a10965fa</td>\n",
       "      <td>tanja+202_99oJ@bss.mk</td>\n",
       "      <td>1.4262</td>\n",
       "      <td>2</td>\n",
       "      <td>1.4262</td>\n",
       "    </tr>\n",
       "    <tr>\n",
       "      <th>46</th>\n",
       "      <td>hcrco3j3ndo542hbg2twb0np</td>\n",
       "      <td>tanja+202_99oJ_VzXA@bss.mk</td>\n",
       "      <td>1.4262</td>\n",
       "      <td>2</td>\n",
       "      <td>1.4262</td>\n",
       "    </tr>\n",
       "    <tr>\n",
       "      <th>10</th>\n",
       "      <td>67b45356197e604dd2722d43</td>\n",
       "      <td>tanja+182_Ahsx@bss.mk</td>\n",
       "      <td>1.3818</td>\n",
       "      <td>2</td>\n",
       "      <td>1.3818</td>\n",
       "    </tr>\n",
       "    <tr>\n",
       "      <th>77</th>\n",
       "      <td>yzc27c0f8w2ortjytg54wtmh</td>\n",
       "      <td>tanja+182_Ahsx_Lcd6@bss.mk</td>\n",
       "      <td>1.3818</td>\n",
       "      <td>2</td>\n",
       "      <td>1.3818</td>\n",
       "    </tr>\n",
       "    <tr>\n",
       "      <th>45</th>\n",
       "      <td>h6m3ppqa2ui8z922ddkcrdxz</td>\n",
       "      <td>tanja+182_Ahsx_hqUn@bss.mk</td>\n",
       "      <td>1.3818</td>\n",
       "      <td>2</td>\n",
       "      <td>1.3818</td>\n",
       "    </tr>\n",
       "    <tr>\n",
       "      <th>2</th>\n",
       "      <td>3p80z1iocd67z0qvg8ju1cc0</td>\n",
       "      <td>aleksandar.dimkov+mitt10_V0iB_2bw2@bss.com.mk</td>\n",
       "      <td>0.6877</td>\n",
       "      <td>1</td>\n",
       "      <td>0.6877</td>\n",
       "    </tr>\n",
       "    <tr>\n",
       "      <th>1</th>\n",
       "      <td>3a17inawhgac2o0xtix3fb3n</td>\n",
       "      <td>aleksandar.dimkov+mitt1_n5eA_oG2a@bss.com.mk</td>\n",
       "      <td>0.6877</td>\n",
       "      <td>1</td>\n",
       "      <td>0.6877</td>\n",
       "    </tr>\n",
       "  </tbody>\n",
       "</table>\n",
       "</div>"
      ],
      "text/plain": [
       "                  visitor_id                                          email  \\\n",
       "21  67b708f32d21f543a10965fa                          tanja+202_99oJ@bss.mk   \n",
       "46  hcrco3j3ndo542hbg2twb0np                     tanja+202_99oJ_VzXA@bss.mk   \n",
       "10  67b45356197e604dd2722d43                          tanja+182_Ahsx@bss.mk   \n",
       "77  yzc27c0f8w2ortjytg54wtmh                     tanja+182_Ahsx_Lcd6@bss.mk   \n",
       "45  h6m3ppqa2ui8z922ddkcrdxz                     tanja+182_Ahsx_hqUn@bss.mk   \n",
       "2   3p80z1iocd67z0qvg8ju1cc0  aleksandar.dimkov+mitt10_V0iB_2bw2@bss.com.mk   \n",
       "1   3a17inawhgac2o0xtix3fb3n   aleksandar.dimkov+mitt1_n5eA_oG2a@bss.com.mk   \n",
       "\n",
       "    similarity_score_sum  matched_category_count  final_score  \n",
       "21                1.4262                       2       1.4262  \n",
       "46                1.4262                       2       1.4262  \n",
       "10                1.3818                       2       1.3818  \n",
       "77                1.3818                       2       1.3818  \n",
       "45                1.3818                       2       1.3818  \n",
       "2                 0.6877                       1       0.6877  \n",
       "1                 0.6877                       1       0.6877  "
      ]
     },
     "execution_count": 4,
     "metadata": {},
     "output_type": "execute_result"
    }
   ],
   "source": [
    "recommend_visitors_for_exhibitor(\"92462\")"
   ]
  }
 ],
 "metadata": {
  "kernelspec": {
   "display_name": "ite-env",
   "language": "python",
   "name": "python3"
  },
  "language_info": {
   "codemirror_mode": {
    "name": "ipython",
    "version": 3
   },
   "file_extension": ".py",
   "mimetype": "text/x-python",
   "name": "python",
   "nbconvert_exporter": "python",
   "pygments_lexer": "ipython3",
   "version": "3.10.2"
  }
 },
 "nbformat": 4,
 "nbformat_minor": 2
}
