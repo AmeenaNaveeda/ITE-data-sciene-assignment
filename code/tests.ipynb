{
 "cells": [
  {
   "cell_type": "markdown",
   "metadata": {},
   "source": [
    "## Test Cases"
   ]
  },
  {
   "cell_type": "markdown",
   "metadata": {},
   "source": [
    "Test Case - Recommend exhibitors for answers"
   ]
  },
  {
   "cell_type": "code",
   "execution_count": 1,
   "metadata": {},
   "outputs": [
    {
     "name": "stdout",
     "output_type": "stream",
     "text": [
      "recommend_exhibitors_for_answer passed all tests.\n"
     ]
    },
    {
     "data": {
      "text/html": [
       "<div>\n",
       "<style scoped>\n",
       "    .dataframe tbody tr th:only-of-type {\n",
       "        vertical-align: middle;\n",
       "    }\n",
       "\n",
       "    .dataframe tbody tr th {\n",
       "        vertical-align: top;\n",
       "    }\n",
       "\n",
       "    .dataframe thead th {\n",
       "        text-align: right;\n",
       "    }\n",
       "</style>\n",
       "<table border=\"1\" class=\"dataframe\">\n",
       "  <thead>\n",
       "    <tr style=\"text-align: right;\">\n",
       "      <th></th>\n",
       "      <th>exhibitor_id</th>\n",
       "      <th>exhibitor_name</th>\n",
       "      <th>similarity_score_sum</th>\n",
       "      <th>matched_category_count</th>\n",
       "      <th>matched_category_names</th>\n",
       "      <th>category_count</th>\n",
       "      <th>penalty_factor</th>\n",
       "      <th>final_score</th>\n",
       "    </tr>\n",
       "  </thead>\n",
       "  <tbody>\n",
       "    <tr>\n",
       "      <th>0</th>\n",
       "      <td>32278</td>\n",
       "      <td>Exotic Holidays Holidays</td>\n",
       "      <td>0.6877</td>\n",
       "      <td>1</td>\n",
       "      <td>6.3 Services &amp; facilities</td>\n",
       "      <td>3</td>\n",
       "      <td>0.94</td>\n",
       "      <td>0.646438</td>\n",
       "    </tr>\n",
       "    <tr>\n",
       "      <th>3</th>\n",
       "      <td>92462</td>\n",
       "      <td>Russian Travel Company</td>\n",
       "      <td>0.6877</td>\n",
       "      <td>1</td>\n",
       "      <td>6.3 Services &amp; facilities</td>\n",
       "      <td>6</td>\n",
       "      <td>0.88</td>\n",
       "      <td>0.605176</td>\n",
       "    </tr>\n",
       "    <tr>\n",
       "      <th>1</th>\n",
       "      <td>48028</td>\n",
       "      <td>Prime Adventures Journeys</td>\n",
       "      <td>0.7179</td>\n",
       "      <td>1</td>\n",
       "      <td>9.2 Manufacturer / distributor of consumables</td>\n",
       "      <td>11</td>\n",
       "      <td>0.78</td>\n",
       "      <td>0.559962</td>\n",
       "    </tr>\n",
       "    <tr>\n",
       "      <th>2</th>\n",
       "      <td>68142</td>\n",
       "      <td>Global Tours Voyages</td>\n",
       "      <td>0.6953</td>\n",
       "      <td>1</td>\n",
       "      <td>11.3 Other services in the sphere of business ...</td>\n",
       "      <td>10</td>\n",
       "      <td>0.80</td>\n",
       "      <td>0.556240</td>\n",
       "    </tr>\n",
       "  </tbody>\n",
       "</table>\n",
       "</div>"
      ],
      "text/plain": [
       "   exhibitor_id             exhibitor_name  similarity_score_sum  \\\n",
       "0         32278   Exotic Holidays Holidays                0.6877   \n",
       "3         92462     Russian Travel Company                0.6877   \n",
       "1         48028  Prime Adventures Journeys                0.7179   \n",
       "2         68142       Global Tours Voyages                0.6953   \n",
       "\n",
       "   matched_category_count                             matched_category_names  \\\n",
       "0                       1                          6.3 Services & facilities   \n",
       "3                       1                          6.3 Services & facilities   \n",
       "1                       1      9.2 Manufacturer / distributor of consumables   \n",
       "2                       1  11.3 Other services in the sphere of business ...   \n",
       "\n",
       "   category_count  penalty_factor  final_score  \n",
       "0               3            0.94     0.646438  \n",
       "3               6            0.88     0.605176  \n",
       "1              11            0.78     0.559962  \n",
       "2              10            0.80     0.556240  "
      ]
     },
     "execution_count": 1,
     "metadata": {},
     "output_type": "execute_result"
    }
   ],
   "source": [
    "import pandas as pd\n",
    "import sys\n",
    "import os\n",
    "\n",
    "sys.path.append(os.path.abspath(os.path.join(os.getcwd(), '..')))\n",
    "from matching_model.models.recommend_exhibitors_by_answers import recommend_exhibitors_for_answer\n",
    "\n",
    "test_answer = \"To source products and services\"\n",
    "results = recommend_exhibitors_for_answer(test_answer)\n",
    "\n",
    "# Basic assertions\n",
    "assert isinstance(results, pd.DataFrame), \"Output is not a DataFrame\"\n",
    "assert not results.empty, \"No results returned\"\n",
    "assert \"exhibitor_id\" in results.columns, \"Missing 'exhibitor_id' column\"\n",
    "\n",
    "print(\"recommend_exhibitors_for_answer passed all tests.\")\n",
    "results.head()"
   ]
  },
  {
   "cell_type": "markdown",
   "metadata": {},
   "source": [
    "Test Case - Recommend exhibitors by email id"
   ]
  },
  {
   "cell_type": "code",
   "execution_count": 2,
   "metadata": {},
   "outputs": [
    {
     "name": "stdout",
     "output_type": "stream",
     "text": [
      "recommend_exhibitors_for_visitor_email passed all tests.\n"
     ]
    },
    {
     "data": {
      "text/html": [
       "<div>\n",
       "<style scoped>\n",
       "    .dataframe tbody tr th:only-of-type {\n",
       "        vertical-align: middle;\n",
       "    }\n",
       "\n",
       "    .dataframe tbody tr th {\n",
       "        vertical-align: top;\n",
       "    }\n",
       "\n",
       "    .dataframe thead th {\n",
       "        text-align: right;\n",
       "    }\n",
       "</style>\n",
       "<table border=\"1\" class=\"dataframe\">\n",
       "  <thead>\n",
       "    <tr style=\"text-align: right;\">\n",
       "      <th></th>\n",
       "      <th>exhibitor_id</th>\n",
       "      <th>exhibitor_name</th>\n",
       "      <th>similarity_score_sum</th>\n",
       "      <th>matched_category_count</th>\n",
       "      <th>final_score</th>\n",
       "    </tr>\n",
       "  </thead>\n",
       "  <tbody>\n",
       "    <tr>\n",
       "      <th>4</th>\n",
       "      <td>21865</td>\n",
       "      <td>Dream Holidays Holidays</td>\n",
       "      <td>2.8177</td>\n",
       "      <td>4</td>\n",
       "      <td>2.197806</td>\n",
       "    </tr>\n",
       "    <tr>\n",
       "      <th>9</th>\n",
       "      <td>68142</td>\n",
       "      <td>Global Tours Voyages</td>\n",
       "      <td>2.6621</td>\n",
       "      <td>4</td>\n",
       "      <td>2.129680</td>\n",
       "    </tr>\n",
       "    <tr>\n",
       "      <th>6</th>\n",
       "      <td>31331</td>\n",
       "      <td>Exotic Adventures Journeys</td>\n",
       "      <td>1.9352</td>\n",
       "      <td>3</td>\n",
       "      <td>1.819088</td>\n",
       "    </tr>\n",
       "    <tr>\n",
       "      <th>2</th>\n",
       "      <td>17729</td>\n",
       "      <td>Sunny Travel Journeys</td>\n",
       "      <td>2.1755</td>\n",
       "      <td>3</td>\n",
       "      <td>1.783910</td>\n",
       "    </tr>\n",
       "    <tr>\n",
       "      <th>11</th>\n",
       "      <td>90556</td>\n",
       "      <td>Turkey Travels</td>\n",
       "      <td>1.4652</td>\n",
       "      <td>2</td>\n",
       "      <td>1.377288</td>\n",
       "    </tr>\n",
       "  </tbody>\n",
       "</table>\n",
       "</div>"
      ],
      "text/plain": [
       "    exhibitor_id              exhibitor_name  similarity_score_sum  \\\n",
       "4          21865     Dream Holidays Holidays                2.8177   \n",
       "9          68142        Global Tours Voyages                2.6621   \n",
       "6          31331  Exotic Adventures Journeys                1.9352   \n",
       "2          17729       Sunny Travel Journeys                2.1755   \n",
       "11         90556              Turkey Travels                1.4652   \n",
       "\n",
       "    matched_category_count  final_score  \n",
       "4                        4     2.197806  \n",
       "9                        4     2.129680  \n",
       "6                        3     1.819088  \n",
       "2                        3     1.783910  \n",
       "11                       2     1.377288  "
      ]
     },
     "execution_count": 2,
     "metadata": {},
     "output_type": "execute_result"
    }
   ],
   "source": [
    "from matching_model.models.recommend_exhibitors_by_email import recommend_exhibitors_for_visitor_email\n",
    "\n",
    "test_email = \"aleksandar.dimkov+mitt10_V0iB_2bw2@bss.com.mk\"\n",
    "results = recommend_exhibitors_for_visitor_email(test_email, top_k=5)\n",
    "\n",
    "assert isinstance(results, pd.DataFrame), \"Output is not a DataFrame\"\n",
    "assert not results.empty, \"No results returned\"\n",
    "assert \"exhibitor_name\" in results.columns, \"Missing 'exhibitor_name' column\"\n",
    "\n",
    "print(\"recommend_exhibitors_for_visitor_email passed all tests.\")\n",
    "results.head()"
   ]
  },
  {
   "cell_type": "markdown",
   "metadata": {},
   "source": [
    "Test Case - Recommend visitors by exhibitor id"
   ]
  },
  {
   "cell_type": "code",
   "execution_count": 4,
   "metadata": {},
   "outputs": [
    {
     "name": "stdout",
     "output_type": "stream",
     "text": [
      "recommend_visitors_for_exhibitor passed all tests.\n"
     ]
    },
    {
     "data": {
      "text/html": [
       "<div>\n",
       "<style scoped>\n",
       "    .dataframe tbody tr th:only-of-type {\n",
       "        vertical-align: middle;\n",
       "    }\n",
       "\n",
       "    .dataframe tbody tr th {\n",
       "        vertical-align: top;\n",
       "    }\n",
       "\n",
       "    .dataframe thead th {\n",
       "        text-align: right;\n",
       "    }\n",
       "</style>\n",
       "<table border=\"1\" class=\"dataframe\">\n",
       "  <thead>\n",
       "    <tr style=\"text-align: right;\">\n",
       "      <th></th>\n",
       "      <th>visitor_id</th>\n",
       "      <th>email</th>\n",
       "      <th>similarity_score_sum</th>\n",
       "      <th>matched_category_count</th>\n",
       "      <th>final_score</th>\n",
       "    </tr>\n",
       "  </thead>\n",
       "  <tbody>\n",
       "    <tr>\n",
       "      <th>21</th>\n",
       "      <td>67b708f32d21f543a10965fa</td>\n",
       "      <td>tanja+202_99oJ@bss.mk</td>\n",
       "      <td>1.4262</td>\n",
       "      <td>2</td>\n",
       "      <td>1.4262</td>\n",
       "    </tr>\n",
       "    <tr>\n",
       "      <th>46</th>\n",
       "      <td>hcrco3j3ndo542hbg2twb0np</td>\n",
       "      <td>tanja+202_99oJ_VzXA@bss.mk</td>\n",
       "      <td>1.4262</td>\n",
       "      <td>2</td>\n",
       "      <td>1.4262</td>\n",
       "    </tr>\n",
       "    <tr>\n",
       "      <th>10</th>\n",
       "      <td>67b45356197e604dd2722d43</td>\n",
       "      <td>tanja+182_Ahsx@bss.mk</td>\n",
       "      <td>1.3818</td>\n",
       "      <td>2</td>\n",
       "      <td>1.3818</td>\n",
       "    </tr>\n",
       "    <tr>\n",
       "      <th>77</th>\n",
       "      <td>yzc27c0f8w2ortjytg54wtmh</td>\n",
       "      <td>tanja+182_Ahsx_Lcd6@bss.mk</td>\n",
       "      <td>1.3818</td>\n",
       "      <td>2</td>\n",
       "      <td>1.3818</td>\n",
       "    </tr>\n",
       "    <tr>\n",
       "      <th>45</th>\n",
       "      <td>h6m3ppqa2ui8z922ddkcrdxz</td>\n",
       "      <td>tanja+182_Ahsx_hqUn@bss.mk</td>\n",
       "      <td>1.3818</td>\n",
       "      <td>2</td>\n",
       "      <td>1.3818</td>\n",
       "    </tr>\n",
       "  </tbody>\n",
       "</table>\n",
       "</div>"
      ],
      "text/plain": [
       "                  visitor_id                       email  \\\n",
       "21  67b708f32d21f543a10965fa       tanja+202_99oJ@bss.mk   \n",
       "46  hcrco3j3ndo542hbg2twb0np  tanja+202_99oJ_VzXA@bss.mk   \n",
       "10  67b45356197e604dd2722d43       tanja+182_Ahsx@bss.mk   \n",
       "77  yzc27c0f8w2ortjytg54wtmh  tanja+182_Ahsx_Lcd6@bss.mk   \n",
       "45  h6m3ppqa2ui8z922ddkcrdxz  tanja+182_Ahsx_hqUn@bss.mk   \n",
       "\n",
       "    similarity_score_sum  matched_category_count  final_score  \n",
       "21                1.4262                       2       1.4262  \n",
       "46                1.4262                       2       1.4262  \n",
       "10                1.3818                       2       1.3818  \n",
       "77                1.3818                       2       1.3818  \n",
       "45                1.3818                       2       1.3818  "
      ]
     },
     "execution_count": 4,
     "metadata": {},
     "output_type": "execute_result"
    }
   ],
   "source": [
    "from matching_model.models.recommend_visitors_by_exhibitorID import recommend_visitors_for_exhibitor\n",
    "\n",
    "test_exhibitor_id = 92462\n",
    "results = recommend_visitors_for_exhibitor(test_exhibitor_id, top_k=5)\n",
    "\n",
    "assert isinstance(results, pd.DataFrame), \"Output is not a DataFrame\"\n",
    "assert not results.empty, \"No results returned\"\n",
    "assert \"visitor_id\" in results.columns, \"Missing 'visitor_id' column\"\n",
    "\n",
    "print(\"recommend_visitors_for_exhibitor passed all tests.\")\n",
    "results.head()"
   ]
  },
  {
   "cell_type": "markdown",
   "metadata": {},
   "source": [
    "Edge case test scenario"
   ]
  },
  {
   "cell_type": "code",
   "execution_count": 5,
   "metadata": {},
   "outputs": [
    {
     "name": "stdout",
     "output_type": "stream",
     "text": [
      "No answers found for this email.\n",
      "No visitor matches found for exhibitor ID: 00000\n",
      "Edge cases passed.\n"
     ]
    }
   ],
   "source": [
    "invalid_email = \"notareal@email.com\"\n",
    "assert recommend_exhibitors_for_visitor_email(invalid_email).empty, \"Should return empty DataFrame for unknown email\"\n",
    "\n",
    "invalid_exhibitor = \"00000\"\n",
    "assert recommend_visitors_for_exhibitor(invalid_exhibitor).empty, \"Should return empty DataFrame for invalid exhibitor ID\"\n",
    "\n",
    "print(\"Edge cases passed.\")"
   ]
  }
 ],
 "metadata": {
  "kernelspec": {
   "display_name": "ite-env",
   "language": "python",
   "name": "python3"
  },
  "language_info": {
   "codemirror_mode": {
    "name": "ipython",
    "version": 3
   },
   "file_extension": ".py",
   "mimetype": "text/x-python",
   "name": "python",
   "nbconvert_exporter": "python",
   "pygments_lexer": "ipython3",
   "version": "3.10.2"
  }
 },
 "nbformat": 4,
 "nbformat_minor": 2
}
